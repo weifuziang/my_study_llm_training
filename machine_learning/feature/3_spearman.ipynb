{
 "cells": [
  {
   "cell_type": "code",
   "id": "initial_id",
   "metadata": {
    "collapsed": true,
    "ExecuteTime": {
     "end_time": "2025-07-17T23:50:16.227742Z",
     "start_time": "2025-07-17T23:50:16.222761Z"
    }
   },
   "source": [
    "#定义数据：学习时间跟考试成绩的二维数组\n",
    "import pandas as pd\n",
    "\n",
    "# 每周学习时长\n",
    "X = [[5], [8], [10], [12], [15], [3], [7], [9], [14], [6]]\n",
    "# 数学考试成绩\n",
    "y = [55, 65, 70, 75, 85, 50, 60, 72, 80, 58]\n"
   ],
   "outputs": [],
   "execution_count": 2
  },
  {
   "metadata": {
    "ExecuteTime": {
     "end_time": "2025-07-17T23:53:15.402003Z",
     "start_time": "2025-07-17T23:53:15.396172Z"
    }
   },
   "cell_type": "code",
   "source": [
    " X = pd.DataFrame(X)\n",
    " y= pd.Series(y)\n",
    " print(X)\n",
    " print(y)\n"
   ],
   "id": "cab8cb0188f3788a",
   "outputs": [
    {
     "name": "stdout",
     "output_type": "stream",
     "text": [
      "    0\n",
      "0   5\n",
      "1   8\n",
      "2  10\n",
      "3  12\n",
      "4  15\n",
      "5   3\n",
      "6   7\n",
      "7   9\n",
      "8  14\n",
      "9   6\n",
      "0    55\n",
      "1    65\n",
      "2    70\n",
      "3    75\n",
      "4    85\n",
      "5    50\n",
      "6    60\n",
      "7    72\n",
      "8    80\n",
      "9    58\n",
      "dtype: int64\n"
     ]
    }
   ],
   "execution_count": 7
  },
  {
   "metadata": {},
   "cell_type": "code",
   "outputs": [],
   "execution_count": null,
   "source": [
    "corrwith = X.corrwith(y, method='spearman')\n",
    "print(corrwith)"
   ],
   "id": "5ab877c6ef3f4e83"
  }
 ],
 "metadata": {
  "kernelspec": {
   "display_name": "Python 3",
   "language": "python",
   "name": "python3"
  },
  "language_info": {
   "codemirror_mode": {
    "name": "ipython",
    "version": 2
   },
   "file_extension": ".py",
   "mimetype": "text/x-python",
   "name": "python",
   "nbconvert_exporter": "python",
   "pygments_lexer": "ipython2",
   "version": "2.7.6"
  }
 },
 "nbformat": 4,
 "nbformat_minor": 5
}
