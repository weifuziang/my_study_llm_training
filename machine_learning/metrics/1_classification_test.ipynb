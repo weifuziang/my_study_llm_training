{
 "cells": [
  {
   "cell_type": "code",
   "id": "initial_id",
   "metadata": {
    "collapsed": true,
    "ExecuteTime": {
     "end_time": "2025-07-24T13:21:40.150888Z",
     "start_time": "2025-07-24T13:21:39.647205Z"
    }
   },
   "source": [
    "import pandas as pd\n",
    "from sklearn.metrics import confusion_matrix\n",
    "import seaborn as sns #统计工具可视化库\n",
    "#===混淆矩阵===\n",
    "#标签\n",
    "label =[\"猫\",\"狗\"]\n",
    "#真实值\n",
    "y_true =[\"猫\", \"猫\", \"猫\", \"猫\", \"猫\", \"猫\", \"狗\", \"狗\", \"狗\", \"狗\"]\n",
    "#预测值\n",
    "y_pred1=[\"猫\", \"猫\", \"狗\", \"猫\", \"猫\", \"猫\", \"猫\", \"猫\", \"狗\", \"狗\"]\n",
    "#混淆矩阵\n",
    "matrix = confusion_matrix(y_true, y_pred1 , labels=label)\n",
    "print(pd.DataFrame(matrix, index=label, columns=label))\n",
    "sns.heatmap(matrix, annot=True,fmt=\"d\",cmap=\"YlGnBu\")"
   ],
   "outputs": [
    {
     "name": "stdout",
     "output_type": "stream",
     "text": [
      "   猫  狗\n",
      "猫  5  1\n",
      "狗  2  2\n"
     ]
    },
    {
     "data": {
      "text/plain": [
       "<Axes: >"
      ]
     },
     "execution_count": 1,
     "metadata": {},
     "output_type": "execute_result"
    },
    {
     "data": {
      "text/plain": [
       "<Figure size 640x480 with 2 Axes>"
      ],
      "image/png": "[encoded data removed]"
     },
     "metadata": {},
     "output_type": "display_data"
    }
   ],
   "execution_count": 1
  },
  {
   "metadata": {
    "ExecuteTime": {
     "end_time": "2025-07-24T13:44:33.830740Z",
     "start_time": "2025-07-24T13:44:33.826740Z"
    }
   },
   "cell_type": "code",
   "source": [
    "#准确率 : 结果为真例（真正例 + 真负例） 占所有样例的比例\n",
    "from sklearn.metrics import accuracy_score\n",
    "accuracy = accuracy_score(y_true, y_pred1)\n",
    "print(accuracy)"
   ],
   "id": "fa534690e0ed9918",
   "outputs": [
    {
     "name": "stdout",
     "output_type": "stream",
     "text": [
      "0.7\n"
     ]
    }
   ],
   "execution_count": 2
  },
  {
   "metadata": {
    "ExecuteTime": {
     "end_time": "2025-07-24T13:53:25.046129Z",
     "start_time": "2025-07-24T13:53:25.041989Z"
    }
   },
   "cell_type": "code",
   "source": [
    "# 精确率：预测为正例值中为真正例的占比\n",
    "from sklearn.metrics import precision_score\n",
    "precision = precision_score(y_true, y_pred1, pos_label=\"猫\")\n",
    "print(precision)"
   ],
   "id": "d13e89044b2b22e6",
   "outputs": [
    {
     "name": "stdout",
     "output_type": "stream",
     "text": [
      "0.7142857142857143\n"
     ]
    }
   ],
   "execution_count": 4
  },
  {
   "metadata": {
    "ExecuteTime": {
     "end_time": "2025-07-24T13:58:06.661343Z",
     "start_time": "2025-07-24T13:58:06.657343Z"
    }
   },
   "cell_type": "code",
   "source": [
    "# 召回率：真实值为正例的样本中预测值为正例的比例\n",
    "from sklearn.metrics import recall_score\n",
    "recall = recall_score(y_true, y_pred1 , pos_label=\"狗\")\n",
    "print(recall)"
   ],
   "id": "a453d2eba8d46a34",
   "outputs": [
    {
     "name": "stdout",
     "output_type": "stream",
     "text": [
      "0.5\n"
     ]
    }
   ],
   "execution_count": 6
  },
  {
   "metadata": {
    "ExecuteTime": {
     "end_time": "2025-07-24T14:00:20.476338Z",
     "start_time": "2025-07-24T14:00:20.472155Z"
    }
   },
   "cell_type": "code",
   "source": [
    "#F1分数：精确率 和 召回率的调和平均\n",
    "from sklearn.metrics import f1_score\n",
    "f1 = f1_score(y_true,y_pred1,pos_label=\"猫\")\n",
    "print(f1)"
   ],
   "id": "e55e5bd62d00b2cf",
   "outputs": [
    {
     "name": "stdout",
     "output_type": "stream",
     "text": [
      "0.7692307692307693\n"
     ]
    }
   ],
   "execution_count": 7
  },
  {
   "metadata": {
    "ExecuteTime": {
     "end_time": "2025-07-24T14:05:23.662321Z",
     "start_time": "2025-07-24T14:05:23.655928Z"
    }
   },
   "cell_type": "code",
   "source": [
    "#所有指标的输出\n",
    "from sklearn.metrics import classification_report\n",
    "classification_report = classification_report(y_true, y_pred1, labels=label,target_names=None)\n",
    "print(classification_report)"
   ],
   "id": "14637808e818a003",
   "outputs": [
    {
     "name": "stdout",
     "output_type": "stream",
     "text": [
      "              precision    recall  f1-score   support\n",
      "\n",
      "           猫       0.71      0.83      0.77         6\n",
      "           狗       0.67      0.50      0.57         4\n",
      "\n",
      "    accuracy                           0.70        10\n",
      "   macro avg       0.69      0.67      0.67        10\n",
      "weighted avg       0.70      0.70      0.69        10\n",
      "\n"
     ]
    }
   ],
   "execution_count": 9
  },
  {
   "metadata": {},
   "cell_type": "code",
   "outputs": [],
   "execution_count": null,
   "source": "",
   "id": "46cf7f18ff6feefb"
  }
 ],
 "metadata": {
  "kernelspec": {
   "display_name": "Python 3",
   "language": "python",
   "name": "python3"
  },
  "language_info": {
   "codemirror_mode": {
    "name": "ipython",
    "version": 2
   },
   "file_extension": ".py",
   "mimetype": "text/x-python",
   "name": "python",
   "nbconvert_exporter": "python",
   "pygments_lexer": "ipython2",
   "version": "2.7.6"
  }
 },
 "nbformat": 4,
 "nbformat_minor": 5
}
